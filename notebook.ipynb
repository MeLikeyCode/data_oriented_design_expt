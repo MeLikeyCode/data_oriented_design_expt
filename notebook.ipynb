{
 "cells": [
  {
   "cell_type": "code",
   "execution_count": 52,
   "metadata": {},
   "outputs": [],
   "source": [
    "import numpy as np\n",
    "import matplotlib.pyplot as plt\n",
    "import seaborn as sns\n",
    "import pandas as pd\n",
    "from dod import expt"
   ]
  },
  {
   "cell_type": "code",
   "execution_count": 53,
   "metadata": {},
   "outputs": [],
   "source": [
    "# load the data\n",
    "df = expt([1000,5000,10000,20000,30000,40000,50000] + [i for i in range(100000,1000000,50000)], [5, 10 ,20,40])"
   ]
  },
  {
   "cell_type": "code",
   "execution_count": 54,
   "metadata": {},
   "outputs": [],
   "source": [
    "df_static = df[df[\"static\"] == True]\n",
    "df_non_static = df[df[\"static\"] == False]"
   ]
  },
  {
   "cell_type": "code",
   "execution_count": 55,
   "metadata": {},
   "outputs": [
    {
     "data": {
      "text/plain": [
       "<AxesSubplot:xlabel='num_points', ylabel='aos/soa'>"
      ]
     },
     "execution_count": 55,
     "metadata": {},
     "output_type": "execute_result"
    },
    {
     "data": {
      "image/png": "[encoded data removed]",
      "text/plain": [
       "<Figure size 432x288 with 1 Axes>"
      ]
     },
     "metadata": {
      "needs_background": "light"
     },
     "output_type": "display_data"
    }
   ],
   "source": [
    "# plot static\n",
    "sns.lineplot(x=\"num_points\", y=\"aos/soa\", hue=\"num_components\",marker='o', data=df_static)"
   ]
  },
  {
   "cell_type": "code",
   "execution_count": 56,
   "metadata": {},
   "outputs": [
    {
     "data": {
      "text/html": [
       "<div>\n",
       "<style scoped>\n",
       "    .dataframe tbody tr th:only-of-type {\n",
       "        vertical-align: middle;\n",
       "    }\n",
       "\n",
       "    .dataframe tbody tr th {\n",
       "        vertical-align: top;\n",
       "    }\n",
       "\n",
       "    .dataframe thead th {\n",
       "        text-align: right;\n",
       "    }\n",
       "</style>\n",
       "<table border=\"1\" class=\"dataframe\">\n",
       "  <thead>\n",
       "    <tr style=\"text-align: right;\">\n",
       "      <th></th>\n",
       "      <th>num_points</th>\n",
       "      <th>soa_time</th>\n",
       "      <th>aos_time</th>\n",
       "      <th>static</th>\n",
       "      <th>aos/soa</th>\n",
       "    </tr>\n",
       "    <tr>\n",
       "      <th>num_components</th>\n",
       "      <th></th>\n",
       "      <th></th>\n",
       "      <th></th>\n",
       "      <th></th>\n",
       "      <th></th>\n",
       "    </tr>\n",
       "  </thead>\n",
       "  <tbody>\n",
       "    <tr>\n",
       "      <th>5</th>\n",
       "      <td>384240.0</td>\n",
       "      <td>3224.92</td>\n",
       "      <td>4320.08</td>\n",
       "      <td>1.0</td>\n",
       "      <td>1.225014</td>\n",
       "    </tr>\n",
       "    <tr>\n",
       "      <th>10</th>\n",
       "      <td>384240.0</td>\n",
       "      <td>6423.72</td>\n",
       "      <td>16443.52</td>\n",
       "      <td>1.0</td>\n",
       "      <td>2.033534</td>\n",
       "    </tr>\n",
       "    <tr>\n",
       "      <th>20</th>\n",
       "      <td>384240.0</td>\n",
       "      <td>12878.52</td>\n",
       "      <td>45209.60</td>\n",
       "      <td>1.0</td>\n",
       "      <td>2.743873</td>\n",
       "    </tr>\n",
       "    <tr>\n",
       "      <th>40</th>\n",
       "      <td>384240.0</td>\n",
       "      <td>25584.72</td>\n",
       "      <td>88086.92</td>\n",
       "      <td>1.0</td>\n",
       "      <td>2.687538</td>\n",
       "    </tr>\n",
       "  </tbody>\n",
       "</table>\n",
       "</div>"
      ],
      "text/plain": [
       "                num_points  soa_time  aos_time  static   aos/soa\n",
       "num_components                                                  \n",
       "5                 384240.0   3224.92   4320.08     1.0  1.225014\n",
       "10                384240.0   6423.72  16443.52     1.0  2.033534\n",
       "20                384240.0  12878.52  45209.60     1.0  2.743873\n",
       "40                384240.0  25584.72  88086.92     1.0  2.687538"
      ]
     },
     "execution_count": 56,
     "metadata": {},
     "output_type": "execute_result"
    }
   ],
   "source": [
    "# let's see the average aos/soa for each number of components\n",
    "df_static.groupby(\"num_components\").mean()"
   ]
  },
  {
   "cell_type": "code",
   "execution_count": 57,
   "metadata": {},
   "outputs": [
    {
     "data": {
      "text/html": [
       "<div>\n",
       "<style scoped>\n",
       "    .dataframe tbody tr th:only-of-type {\n",
       "        vertical-align: middle;\n",
       "    }\n",
       "\n",
       "    .dataframe tbody tr th {\n",
       "        vertical-align: top;\n",
       "    }\n",
       "\n",
       "    .dataframe thead th {\n",
       "        text-align: right;\n",
       "    }\n",
       "</style>\n",
       "<table border=\"1\" class=\"dataframe\">\n",
       "  <thead>\n",
       "    <tr style=\"text-align: right;\">\n",
       "      <th></th>\n",
       "      <th>num_points</th>\n",
       "      <th>soa_time</th>\n",
       "      <th>aos_time</th>\n",
       "      <th>static</th>\n",
       "      <th>aos/soa</th>\n",
       "    </tr>\n",
       "    <tr>\n",
       "      <th>num_components</th>\n",
       "      <th></th>\n",
       "      <th></th>\n",
       "      <th></th>\n",
       "      <th></th>\n",
       "      <th></th>\n",
       "    </tr>\n",
       "  </thead>\n",
       "  <tbody>\n",
       "    <tr>\n",
       "      <th>5</th>\n",
       "      <td>550000.0</td>\n",
       "      <td>4614.647059</td>\n",
       "      <td>6213.647059</td>\n",
       "      <td>1.0</td>\n",
       "      <td>1.311238</td>\n",
       "    </tr>\n",
       "    <tr>\n",
       "      <th>10</th>\n",
       "      <td>550000.0</td>\n",
       "      <td>9189.705882</td>\n",
       "      <td>23875.705882</td>\n",
       "      <td>1.0</td>\n",
       "      <td>2.454495</td>\n",
       "    </tr>\n",
       "    <tr>\n",
       "      <th>20</th>\n",
       "      <td>550000.0</td>\n",
       "      <td>18444.470588</td>\n",
       "      <td>65747.235294</td>\n",
       "      <td>1.0</td>\n",
       "      <td>3.383782</td>\n",
       "    </tr>\n",
       "    <tr>\n",
       "      <th>40</th>\n",
       "      <td>550000.0</td>\n",
       "      <td>36628.411765</td>\n",
       "      <td>127859.705882</td>\n",
       "      <td>1.0</td>\n",
       "      <td>3.274619</td>\n",
       "    </tr>\n",
       "  </tbody>\n",
       "</table>\n",
       "</div>"
      ],
      "text/plain": [
       "                num_points      soa_time       aos_time  static   aos/soa\n",
       "num_components                                                           \n",
       "5                 550000.0   4614.647059    6213.647059     1.0  1.311238\n",
       "10                550000.0   9189.705882   23875.705882     1.0  2.454495\n",
       "20                550000.0  18444.470588   65747.235294     1.0  3.383782\n",
       "40                550000.0  36628.411765  127859.705882     1.0  3.274619"
      ]
     },
     "execution_count": 57,
     "metadata": {},
     "output_type": "execute_result"
    }
   ],
   "source": [
    "# let's filter points greater than 100000, and see the average aos/soa for each number of components\n",
    "df_static[df_static[\"num_points\"] > 100000].groupby(\"num_components\").mean()"
   ]
  },
  {
   "cell_type": "code",
   "execution_count": 58,
   "metadata": {},
   "outputs": [
    {
     "data": {
      "text/plain": [
       "<AxesSubplot:xlabel='num_points', ylabel='aos/soa'>"
      ]
     },
     "execution_count": 58,
     "metadata": {},
     "output_type": "execute_result"
    },
    {
     "data": {
      "image/png": "[encoded data removed]",
      "text/plain": [
       "<Figure size 432x288 with 1 Axes>"
      ]
     },
     "metadata": {
      "needs_background": "light"
     },
     "output_type": "display_data"
    }
   ],
   "source": [
    "# plot non static\n",
    "sns.lineplot(x=\"num_points\", y=\"aos/soa\", hue=\"num_components\",marker='o', data=df_non_static)"
   ]
  },
  {
   "cell_type": "code",
   "execution_count": 59,
   "metadata": {},
   "outputs": [
    {
     "data": {
      "text/html": [
       "<div>\n",
       "<style scoped>\n",
       "    .dataframe tbody tr th:only-of-type {\n",
       "        vertical-align: middle;\n",
       "    }\n",
       "\n",
       "    .dataframe tbody tr th {\n",
       "        vertical-align: top;\n",
       "    }\n",
       "\n",
       "    .dataframe thead th {\n",
       "        text-align: right;\n",
       "    }\n",
       "</style>\n",
       "<table border=\"1\" class=\"dataframe\">\n",
       "  <thead>\n",
       "    <tr style=\"text-align: right;\">\n",
       "      <th></th>\n",
       "      <th>num_points</th>\n",
       "      <th>soa_time</th>\n",
       "      <th>aos_time</th>\n",
       "      <th>static</th>\n",
       "      <th>aos/soa</th>\n",
       "    </tr>\n",
       "    <tr>\n",
       "      <th>num_components</th>\n",
       "      <th></th>\n",
       "      <th></th>\n",
       "      <th></th>\n",
       "      <th></th>\n",
       "      <th></th>\n",
       "    </tr>\n",
       "  </thead>\n",
       "  <tbody>\n",
       "    <tr>\n",
       "      <th>5</th>\n",
       "      <td>384240.0</td>\n",
       "      <td>3216.68</td>\n",
       "      <td>8016.96</td>\n",
       "      <td>0.0</td>\n",
       "      <td>2.277191</td>\n",
       "    </tr>\n",
       "    <tr>\n",
       "      <th>10</th>\n",
       "      <td>384240.0</td>\n",
       "      <td>6415.68</td>\n",
       "      <td>25109.84</td>\n",
       "      <td>0.0</td>\n",
       "      <td>3.199860</td>\n",
       "    </tr>\n",
       "    <tr>\n",
       "      <th>20</th>\n",
       "      <td>384240.0</td>\n",
       "      <td>12950.84</td>\n",
       "      <td>52402.36</td>\n",
       "      <td>0.0</td>\n",
       "      <td>3.328084</td>\n",
       "    </tr>\n",
       "    <tr>\n",
       "      <th>40</th>\n",
       "      <td>384240.0</td>\n",
       "      <td>25919.92</td>\n",
       "      <td>110179.56</td>\n",
       "      <td>0.0</td>\n",
       "      <td>3.589351</td>\n",
       "    </tr>\n",
       "  </tbody>\n",
       "</table>\n",
       "</div>"
      ],
      "text/plain": [
       "                num_points  soa_time   aos_time  static   aos/soa\n",
       "num_components                                                   \n",
       "5                 384240.0   3216.68    8016.96     0.0  2.277191\n",
       "10                384240.0   6415.68   25109.84     0.0  3.199860\n",
       "20                384240.0  12950.84   52402.36     0.0  3.328084\n",
       "40                384240.0  25919.92  110179.56     0.0  3.589351"
      ]
     },
     "execution_count": 59,
     "metadata": {},
     "output_type": "execute_result"
    }
   ],
   "source": [
    "df_non_static.groupby(\"num_components\").mean()"
   ]
  }
 ],
 "metadata": {
  "kernelspec": {
   "display_name": "base",
   "language": "python",
   "name": "python3"
  },
  "language_info": {
   "codemirror_mode": {
    "name": "ipython",
    "version": 3
   },
   "file_extension": ".py",
   "mimetype": "text/x-python",
   "name": "python",
   "nbconvert_exporter": "python",
   "pygments_lexer": "ipython3",
   "version": "3.9.12"
  },
  "orig_nbformat": 4
 },
 "nbformat": 4,
 "nbformat_minor": 2
}
